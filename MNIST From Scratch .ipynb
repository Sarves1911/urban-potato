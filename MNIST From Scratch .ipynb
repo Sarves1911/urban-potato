{
 "cells": [
  {
   "cell_type": "code",
   "execution_count": 13,
   "id": "179c4832-7896-461c-bd21-72c7069de9d0",
   "metadata": {},
   "outputs": [],
   "source": [
    "import pandas as pd\n",
    "import numpy as np\n",
    "import matplotlib.pyplot as plt"
   ]
  },
  {
   "cell_type": "code",
   "execution_count": 7,
   "id": "584e5ed7-fdcd-45d7-99a5-71d975b5c8f3",
   "metadata": {},
   "outputs": [],
   "source": [
    "data = pd.read_csv(\"E:/digit-recognizer/train.csv\")"
   ]
  },
  {
   "cell_type": "code",
   "execution_count": 9,
   "id": "9bc8ea1c-daa3-47db-85e3-1a2aedc8cf97",
   "metadata": {},
   "outputs": [
    {
     "data": {
      "text/html": [
       "<div>\n",
       "<style scoped>\n",
       "    .dataframe tbody tr th:only-of-type {\n",
       "        vertical-align: middle;\n",
       "    }\n",
       "\n",
       "    .dataframe tbody tr th {\n",
       "        vertical-align: top;\n",
       "    }\n",
       "\n",
       "    .dataframe thead th {\n",
       "        text-align: right;\n",
       "    }\n",
       "</style>\n",
       "<table border=\"1\" class=\"dataframe\">\n",
       "  <thead>\n",
       "    <tr style=\"text-align: right;\">\n",
       "      <th></th>\n",
       "      <th>label</th>\n",
       "      <th>pixel0</th>\n",
       "      <th>pixel1</th>\n",
       "      <th>pixel2</th>\n",
       "      <th>pixel3</th>\n",
       "      <th>pixel4</th>\n",
       "      <th>pixel5</th>\n",
       "      <th>pixel6</th>\n",
       "      <th>pixel7</th>\n",
       "      <th>pixel8</th>\n",
       "      <th>...</th>\n",
       "      <th>pixel774</th>\n",
       "      <th>pixel775</th>\n",
       "      <th>pixel776</th>\n",
       "      <th>pixel777</th>\n",
       "      <th>pixel778</th>\n",
       "      <th>pixel779</th>\n",
       "      <th>pixel780</th>\n",
       "      <th>pixel781</th>\n",
       "      <th>pixel782</th>\n",
       "      <th>pixel783</th>\n",
       "    </tr>\n",
       "  </thead>\n",
       "  <tbody>\n",
       "    <tr>\n",
       "      <th>0</th>\n",
       "      <td>1</td>\n",
       "      <td>0</td>\n",
       "      <td>0</td>\n",
       "      <td>0</td>\n",
       "      <td>0</td>\n",
       "      <td>0</td>\n",
       "      <td>0</td>\n",
       "      <td>0</td>\n",
       "      <td>0</td>\n",
       "      <td>0</td>\n",
       "      <td>...</td>\n",
       "      <td>0</td>\n",
       "      <td>0</td>\n",
       "      <td>0</td>\n",
       "      <td>0</td>\n",
       "      <td>0</td>\n",
       "      <td>0</td>\n",
       "      <td>0</td>\n",
       "      <td>0</td>\n",
       "      <td>0</td>\n",
       "      <td>0</td>\n",
       "    </tr>\n",
       "    <tr>\n",
       "      <th>1</th>\n",
       "      <td>0</td>\n",
       "      <td>0</td>\n",
       "      <td>0</td>\n",
       "      <td>0</td>\n",
       "      <td>0</td>\n",
       "      <td>0</td>\n",
       "      <td>0</td>\n",
       "      <td>0</td>\n",
       "      <td>0</td>\n",
       "      <td>0</td>\n",
       "      <td>...</td>\n",
       "      <td>0</td>\n",
       "      <td>0</td>\n",
       "      <td>0</td>\n",
       "      <td>0</td>\n",
       "      <td>0</td>\n",
       "      <td>0</td>\n",
       "      <td>0</td>\n",
       "      <td>0</td>\n",
       "      <td>0</td>\n",
       "      <td>0</td>\n",
       "    </tr>\n",
       "    <tr>\n",
       "      <th>2</th>\n",
       "      <td>1</td>\n",
       "      <td>0</td>\n",
       "      <td>0</td>\n",
       "      <td>0</td>\n",
       "      <td>0</td>\n",
       "      <td>0</td>\n",
       "      <td>0</td>\n",
       "      <td>0</td>\n",
       "      <td>0</td>\n",
       "      <td>0</td>\n",
       "      <td>...</td>\n",
       "      <td>0</td>\n",
       "      <td>0</td>\n",
       "      <td>0</td>\n",
       "      <td>0</td>\n",
       "      <td>0</td>\n",
       "      <td>0</td>\n",
       "      <td>0</td>\n",
       "      <td>0</td>\n",
       "      <td>0</td>\n",
       "      <td>0</td>\n",
       "    </tr>\n",
       "    <tr>\n",
       "      <th>3</th>\n",
       "      <td>4</td>\n",
       "      <td>0</td>\n",
       "      <td>0</td>\n",
       "      <td>0</td>\n",
       "      <td>0</td>\n",
       "      <td>0</td>\n",
       "      <td>0</td>\n",
       "      <td>0</td>\n",
       "      <td>0</td>\n",
       "      <td>0</td>\n",
       "      <td>...</td>\n",
       "      <td>0</td>\n",
       "      <td>0</td>\n",
       "      <td>0</td>\n",
       "      <td>0</td>\n",
       "      <td>0</td>\n",
       "      <td>0</td>\n",
       "      <td>0</td>\n",
       "      <td>0</td>\n",
       "      <td>0</td>\n",
       "      <td>0</td>\n",
       "    </tr>\n",
       "    <tr>\n",
       "      <th>4</th>\n",
       "      <td>0</td>\n",
       "      <td>0</td>\n",
       "      <td>0</td>\n",
       "      <td>0</td>\n",
       "      <td>0</td>\n",
       "      <td>0</td>\n",
       "      <td>0</td>\n",
       "      <td>0</td>\n",
       "      <td>0</td>\n",
       "      <td>0</td>\n",
       "      <td>...</td>\n",
       "      <td>0</td>\n",
       "      <td>0</td>\n",
       "      <td>0</td>\n",
       "      <td>0</td>\n",
       "      <td>0</td>\n",
       "      <td>0</td>\n",
       "      <td>0</td>\n",
       "      <td>0</td>\n",
       "      <td>0</td>\n",
       "      <td>0</td>\n",
       "    </tr>\n",
       "  </tbody>\n",
       "</table>\n",
       "<p>5 rows × 785 columns</p>\n",
       "</div>"
      ],
      "text/plain": [
       "   label  pixel0  pixel1  pixel2  pixel3  pixel4  pixel5  pixel6  pixel7  \\\n",
       "0      1       0       0       0       0       0       0       0       0   \n",
       "1      0       0       0       0       0       0       0       0       0   \n",
       "2      1       0       0       0       0       0       0       0       0   \n",
       "3      4       0       0       0       0       0       0       0       0   \n",
       "4      0       0       0       0       0       0       0       0       0   \n",
       "\n",
       "   pixel8  ...  pixel774  pixel775  pixel776  pixel777  pixel778  pixel779  \\\n",
       "0       0  ...         0         0         0         0         0         0   \n",
       "1       0  ...         0         0         0         0         0         0   \n",
       "2       0  ...         0         0         0         0         0         0   \n",
       "3       0  ...         0         0         0         0         0         0   \n",
       "4       0  ...         0         0         0         0         0         0   \n",
       "\n",
       "   pixel780  pixel781  pixel782  pixel783  \n",
       "0         0         0         0         0  \n",
       "1         0         0         0         0  \n",
       "2         0         0         0         0  \n",
       "3         0         0         0         0  \n",
       "4         0         0         0         0  \n",
       "\n",
       "[5 rows x 785 columns]"
      ]
     },
     "execution_count": 9,
     "metadata": {},
     "output_type": "execute_result"
    }
   ],
   "source": [
    "data.head()"
   ]
  },
  {
   "cell_type": "markdown",
   "id": "77f3434e-62e7-47c4-91de-d2d43baea915",
   "metadata": {},
   "source": [
    "# Neural Network Implementation"
   ]
  },
  {
   "cell_type": "markdown",
   "id": "49db48c3-076f-4fb9-b9ca-81d96b08794f",
   "metadata": {},
   "source": [
    "\r\n",
    "---\r\n",
    "\r\n",
    "### 1. **Initialization of Parameters (`init_params`)**\r\n",
    "\r\n",
    "The parameters are initialized as follows:\r\n",
    "- \\( W_1 \\in \\mathbb{R}^{10 \\times 784} \\): Random weights for the first layer.\r\n",
    "- \\( B_1 \\in \\mathbb{R}^{10 \\times 1} \\): Bias for the first layer (initialized to zero).\r\n",
    "- \\( W_2 \\in \\mathbb{R}^{10 \\times 10} \\): Random weights for the second layer.\r\n",
    "- \\( B_2 \\in \\mathbb{R}^{10 \\times 1} \\): Bias for the second layer (initialized to zero).\r\n",
    "\r\n",
    "---\r\n",
    "\r\n",
    "### 2. **ReLU Activation Function (`ReLU`)**\r\n",
    "\r\n",
    "The ReLU (Rectified Linear Unit) function is defined as:\r\n",
    "\r\n",
    "\\[\r\n",
    "\\text{ReLU}(Z) = \\max(0, Z)\r\n",
    "\\]\r\n",
    "\r\n",
    "Where \\( Z \\) is the input matrix.\r\n",
    "\r\n",
    "---\r\n",
    "\r\n",
    "### 3. **Softmax Activation Function (`softmax`)**\r\n",
    "\r\n",
    "The softmax function for a vector \\( Z \\) is defined as:\r\n",
    "\r\n",
    "\\[\r\n",
    "\\text{softmax}(Z_i) = \\frac{e^{Z_i}}{\\sum_{j} e^{Z_j}}\r\n",
    "\\]\r\n",
    "\r\n",
    "Where \\( Z_i \\) is the \\( i^{th} \\) element of the vector \\( Z \\).\r\n",
    "\r\n",
    "---\r\n",
    "\r\n",
    "### 4. **Forward Propagation (`forward_prop`)**\r\n",
    "\r\n",
    "The forward propagation steps are as follows:\r\n",
    "\r\n",
    "1. Compute the linear transformation for the first layer:\r\n",
    "   \\[\r\n",
    "   Z_1 = W_1 \\cdot X + B_1\r\n",
    "   \\]\r\n",
    "\r\n",
    "2. Apply the ReLU activation function:\r\n",
    "   \\[\r\n",
    "   A_1 = \\text{ReLU}(Z_1)\r\n",
    "   \\]\r\n",
    "\r\n",
    "3. Compute the linear transformation for the second layer:\r\n",
    "   \\[\r\n",
    "   Z_2 = W_2 \\cdot A_1 + B_2\r\n",
    "   \\]\r\n",
    "\r\n",
    "4. Apply the softmax activation function:\r\n",
    "   \\[\r\n",
    "   A_2 = \\text{softmax}(Z_2)\r\n",
    "   \\]\r\n",
    "\r\n",
    "Here:\r\n",
    "- \\( X \\): Input matrix.\r\n",
    "- \\( W_1, B_1, W_2, B_2 \\): Weights and biases for respective layers.\r\n",
    "- \\( A_1 \\): Activation from the first layer.\r\n",
    "- \\( A_2 \\): Final output probabilities.\r\n",
    "\r\n",
    "---\r\n",
    "\r\n",
    "### 5. **One-Hot Encoding (`one_hot_encoding`)**\r\n",
    "\r\n",
    "The one-hot encoding function maps labels \\( Y \\) to binary vectors:\r\n",
    "\r\n",
    "\\[\r\n",
    "\\text{one\\_hot}(Y_i) = \r\n",
    "\\begin{cases} \r\n",
    "1 & \\text{if } j = Y_i \\\\ \r\n",
    "0 & \\text{otherwise}\r\n",
    "\\end{cases}\r\n",
    "\\]\r\n",
    "\r\n",
    "Where \\( j \\) ranges over the possible classes.\r\n",
    "\r\n",
    "---\r\n",
    "\r\n",
    "### 6. **Derivative of ReLU (`derivative_relu`)**\r\n",
    "\r\n",
    "The derivative of the ReLU function is:\r\n",
    "\r\n",
    "\\[\r\n",
    "\\text{ReLU}'(Z) = \r\n",
    "\\begin{cases} \r\n",
    "1 & \\text{if } Z > 0 \\\\ \r\n",
    "0 & \\text{otherwise}\r\n",
    "\\end{cases}\r\n",
    "\\]\r\n",
    "\r\n",
    "---\r\n",
    "\r\n",
    "### 7. **Backward Propagation (`back_prop`)**\r\n",
    "\r\n",
    "The backward propagation involves computing gradients:\r\n",
    "\r\n",
    "1. Compute the gradient of the loss with respect to \\( Z_2 \\):\r\n",
    "   \\[\r\n",
    "   dZ_2 = A_2 - \\text{one\\_hot}(Y)\r\n",
    "   \\]\r\n",
    "\r\n",
    "2. Compute the gradients for the second layer:\r\n",
    "   \\[\r\n",
    "   dW_2 = \\frac{1}{m} dZ_2 \\cdot A_1^T\r\n",
    "   \\]\r\n",
    "   \\[\r\n",
    "   dB_2 = \\frac{1}{m} \\sum dZ_2\r\n",
    "   \\]\r\n",
    "\r\n",
    "3. Compute the gradient of the loss with respect to \\( Z_1 \\) (using the chain rule):\r\n",
    "   \\[\r\n",
    "   dZ_1 = W_2^T \\cdot dZ_2 \\circ \\text{ReLU}'(Z_1)\r\n",
    "   \\]\r\n",
    "\r\n",
    "4. Compute the gradients for the first layer:\r\n",
    "   \\[\r\n",
    "   dW_1 = \\frac{1}{m} dZ_1 \\cdot X^T\r\n",
    "   \\]\r\n",
    "   \\[\r\n",
    "   dB_1 = \\frac{1}{m} \\sum dZ_1\r\n",
    "   \\]\r\n",
    "\r\n",
    "Here:\r\n",
    "- \\( m \\): Number of samples.\r\n",
    "- \\( \\circ \\): Element-wise multiplication.\r\n",
    "\r\n",
    "---\r\n",
    "\r\n",
    "### 8. **Update Parameters (`update_params`)**\r\n",
    "\r\n",
    "The weights and biases are updated using gradient descent:\r\n",
    "\r\n",
    "\\[\r\n",
    "W_1 = W_1 - \\alpha \\cdot dW_1\r\n",
    "\\]\r\n",
    "\\[\r\n",
    "B_1 = B_1 - \\alpha \\cdot dB_1\r\n",
    "\\]\r\n",
    "\\[\r\n",
    "W_2 = W_2 - \\alpha \\cdot dW_2\r\n",
    "\\]\r\n",
    "\\[\r\n",
    "B_2 = B_2 - \\alpha \\cdot dB_2\r\n",
    "\\]\r\n",
    "\r\n",
    "Where \\( \\alpha \\) is the learning rate.\r\n",
    "\r\n",
    "---\r\n",
    "\r\n",
    "### 9. **Get Predictions (`get_predictions`)**\r\n",
    "\r\n",
    "Predictions are obtained by selecting the class with the highest probability:\r\n",
    "\r\n",
    "\\[\r\n",
    "\\text{predictions} = \\arg\\max(A_2, \\text{axis}=0)\r\n",
    "\\]\r\n",
    "\r\n",
    "---\r\n",
    "\r\n",
    "### 10. **Compute Accuracy (`get_accuracy`)**\r\n",
    "\r\n",
    "The accuracy is computed as:\r\n",
    "\r\n",
    "\\[\r\n",
    "\\text{accuracy} = \\frac{\\text{Number of Correct Predictions}}{\\text{Total Number of Samples}}\r\n",
    "\\]\r\n",
    "\r\n",
    "Or equivalently:\r\n",
    "\r\n",
    "\\[\r\n",
    "\\text{accuracy} = \\frac{\\sum (\\text{predictions} = Y)}{\\text{Total Number of Samples}}\r\n",
    "\\]\r\n",
    "\r\n",
    "---\r\n",
    "\r\n",
    "### 11. **Gradient Descent (`gradient_descent`)**\r\n",
    "\r\n",
    "The gradient descent algorithm iteratively updates the parameters to minimize the loss function. At each iteration:\r\n",
    "\r\n",
    "1. Perform forward propagation.\r\n",
    "2. Compute gradients using backward propagation.\r\n",
    "3. Update parameters.\r\n",
    "\r\n",
    "Iteratively, for \\( i \\in [1, \\text{iterations}] \\):\r\n",
    "\r\n",
    "\\[\r\n",
    "W_1, B_1, W_2, B_2 \\rightarrow \\text{Updated Parameters}\r\n",
    "\\]\r\n",
    "\r\n",
    "---\r\n",
    "\r\n",
    "This code should render correctly if used in a compatible Markdown viewer.\r\n",
    "gation.\r\n",
    "2. Compute gradients using backward propagation.\r\n",
    "3. Update parameters.\r\n",
    "\r\n",
    "Iteratively, for \\( i \\in [1, \\text{iterations}] \\):\r\n",
    "\r\n",
    "\\[\r\n",
    "W_1, B_1, W_2, B_2 \\rightarrow \\text{Updated Parameters}\r\n",
    "\\]\r\n",
    "\r\n",
    "---\r\n",
    "\r\n",
    "This code should render correctly if used in a compatible Markdown viewer.\r\n",
    " or similar MathJax renderer is installed and enabled in Jupyter Notebook for proper LaTeX rendering.\r\n",
    "ely, for \\( i \\in [1, \\text{iterations}] \\):\r\n",
    "\r\n",
    "\\[\r\n",
    "W_1, B_1, W_2, B_2 \\rightarrow \\text{Updated Parameters}\r\n",
    "\\]\r\n",
    "\r\n",
    "---\r\n",
    "\r\n",
    "This code should render correctly if used in a compatible Markdown viewer.\r\n"
   ]
  },
  {
   "cell_type": "markdown",
   "id": "1656dd9c-1593-4333-9d03-93628196efcf",
   "metadata": {},
   "source": [
    "## Loading & Splitting the Data "
   ]
  },
  {
   "cell_type": "code",
   "execution_count": 134,
   "id": "67c2aa03-82f8-4658-84f7-2d31cea19c84",
   "metadata": {},
   "outputs": [],
   "source": [
    "data = np.array(data)\n",
    "m, n = data.shape\n",
    "np.random.shuffle(data)"
   ]
  },
  {
   "cell_type": "code",
   "execution_count": 136,
   "id": "abf9be33-b87e-4df0-a37e-5a427063c4c0",
   "metadata": {},
   "outputs": [],
   "source": [
    "data_dev = data[0:1000].T\n",
    "Y_dev = data_dev[0]\n",
    "X_dev = data_dev[1:n]\n",
    "X_dev = X_dev / 255.\n",
    "\n",
    "data_train = data[1000:m].T\n",
    "Y_train = data_train[0]\n",
    "X_train = data_train[1:n]\n",
    "X_train = X_train / 255.\n",
    "_,m_train = X_train.shape"
   ]
  },
  {
   "cell_type": "markdown",
   "id": "395d5a26-5821-476a-b688-6406201cac0b",
   "metadata": {},
   "source": [
    "## Initalizing the Parameters"
   ]
  },
  {
   "cell_type": "code",
   "execution_count": 138,
   "id": "4a8722cd-c869-4de0-bd34-3292f64fe7b2",
   "metadata": {},
   "outputs": [],
   "source": [
    "def init_params():\n",
    "    W1 = np.random.rand(10, 784) - 0.5\n",
    "    b1 = np.random.rand(10, 1) - 0.5\n",
    "    W2 = np.random.rand(10, 10) - 0.5\n",
    "    b2 = np.random.rand(10, 1) - 0.5\n",
    "    return W1, b1, W2, b2"
   ]
  },
  {
   "cell_type": "markdown",
   "id": "d7306869-567f-479f-9469-dff8b99ccfda",
   "metadata": {},
   "source": [
    "## Activation Function"
   ]
  },
  {
   "cell_type": "code",
   "execution_count": 141,
   "id": "07993fcd-3522-4766-943a-ddd6317e7326",
   "metadata": {},
   "outputs": [],
   "source": [
    "def ReLU(Z):\n",
    "    return np.maximum(Z, 0)"
   ]
  },
  {
   "cell_type": "markdown",
   "id": "22e2ad6f-ee5d-4c9d-9607-e8f53f66582a",
   "metadata": {},
   "source": [
    "## Softmax Function"
   ]
  },
  {
   "cell_type": "code",
   "execution_count": 143,
   "id": "3582dc1f-7eab-4bc6-bc3f-614273057de1",
   "metadata": {},
   "outputs": [],
   "source": [
    "def softmax(Z):\n",
    "    A = np.exp(Z) / sum(np.exp(Z))\n",
    "    return A"
   ]
  },
  {
   "cell_type": "markdown",
   "id": "098661c1-5a07-40f0-807c-8e170962ce83",
   "metadata": {},
   "source": [
    "## Forward Propagation"
   ]
  },
  {
   "cell_type": "code",
   "execution_count": 145,
   "id": "20832c13-59fc-499c-b4c2-eecb3678a998",
   "metadata": {},
   "outputs": [],
   "source": [
    "def forward_prop(W1, b1, W2, b2, X):\n",
    "    Z1 = W1.dot(X) + b1\n",
    "    A1 = ReLU(Z1)\n",
    "    Z2 = W2.dot(A1) + b2\n",
    "    A2 = softmax(Z2)\n",
    "    return Z1, A1, Z2, A2"
   ]
  },
  {
   "cell_type": "markdown",
   "id": "dc5c747d-0c68-4f6a-9a7a-6ae696ceaad8",
   "metadata": {},
   "source": [
    "## One Hot Encoding"
   ]
  },
  {
   "cell_type": "code",
   "execution_count": 150,
   "id": "5d5ee3a4-c5bf-4950-ba8f-d6698a8839b9",
   "metadata": {},
   "outputs": [],
   "source": [
    "def one_hot(Y):\n",
    "    one_hot_Y = np.zeros((Y.size, Y.max() + 1))\n",
    "    one_hot_Y[np.arange(Y.size), Y] = 1\n",
    "    one_hot_Y = one_hot_Y.T\n",
    "    return one_hot_Y"
   ]
  },
  {
   "cell_type": "markdown",
   "id": "40fd515d-62dc-4c3f-aa64-75377c7e8b88",
   "metadata": {},
   "source": [
    "## Activation Function Derivative"
   ]
  },
  {
   "cell_type": "code",
   "execution_count": 148,
   "id": "d563e278-00d4-49a8-a089-b8a99b349d95",
   "metadata": {},
   "outputs": [],
   "source": [
    "def ReLU_deriv(Z):\n",
    "    return Z > 0"
   ]
  },
  {
   "cell_type": "markdown",
   "id": "99405a34-0ff9-47ed-925b-01d7153b0dc4",
   "metadata": {},
   "source": [
    "## Backward Propagation"
   ]
  },
  {
   "cell_type": "code",
   "execution_count": 152,
   "id": "e6c9a6c0-aae5-4af3-931a-f191dba393d8",
   "metadata": {},
   "outputs": [],
   "source": [
    "def backward_prop(Z1, A1, Z2, A2, W1, W2, X, Y):\n",
    "    one_hot_Y = one_hot(Y)\n",
    "    dZ2 = A2 - one_hot_Y\n",
    "    dW2 = 1 / m * dZ2.dot(A1.T)\n",
    "    db2 = 1 / m * np.sum(dZ2)\n",
    "    dZ1 = W2.T.dot(dZ2) * ReLU_deriv(Z1)\n",
    "    dW1 = 1 / m * dZ1.dot(X.T)\n",
    "    db1 = 1 / m * np.sum(dZ1)\n",
    "    return dW1, db1, dW2, db2"
   ]
  },
  {
   "cell_type": "markdown",
   "id": "bc48089b-68b0-4884-9e19-dde240b88e86",
   "metadata": {},
   "source": [
    "## Updating Parameters"
   ]
  },
  {
   "cell_type": "code",
   "execution_count": 120,
   "id": "1d973b40-bcf0-4bec-bc25-a30251e84e9a",
   "metadata": {},
   "outputs": [],
   "source": [
    "def update_params(W1, b1, W2, b2, dW1, db1, dW2, db2, alpha):\n",
    "    W1 = W1 - alpha * dW1\n",
    "    b1 = b1 - alpha * db1    \n",
    "    W2 = W2 - alpha * dW2  \n",
    "    b2 = b2 - alpha * db2    \n",
    "    return W1, b1, W2, b2"
   ]
  },
  {
   "cell_type": "markdown",
   "id": "9725fa47-6528-4f4c-9389-7ac277ee1025",
   "metadata": {},
   "source": [
    "## Training and Testing"
   ]
  },
  {
   "cell_type": "code",
   "execution_count": 172,
   "id": "8d1268b7-82fd-4c7e-9374-73922eaaceab",
   "metadata": {},
   "outputs": [],
   "source": [
    "def get_predictions(A2):\n",
    "    return np.argmax(A2, 0)\n",
    "\n",
    "def get_accuracy(predictions, Y):\n",
    "    print(predictions, Y)\n",
    "    return np.sum(predictions == Y) / Y.size\n",
    "\n",
    "def gradient_descent(X, Y, alpha, iterations):\n",
    "    W1, b1, W2, b2 = init_params()\n",
    "    for i in range(iterations):\n",
    "        Z1, A1, Z2, A2 = forward_prop(W1, b1, W2, b2, X)\n",
    "        dW1, db1, dW2, db2 = backward_prop(Z1, A1, Z2, A2, W1, W2, X, Y)\n",
    "        W1, b1, W2, b2 = update_params(W1, b1, W2, b2, dW1, db1, dW2, db2, alpha)\n",
    "        if i % 100 == 0:\n",
    "            print(\"Iteration: \", i)\n",
    "            predictions = get_predictions(A2)\n",
    "            print(get_accuracy(predictions, Y))\n",
    "    return W1, b1, W2, b2"
   ]
  },
  {
   "cell_type": "code",
   "execution_count": 174,
   "id": "0cd4861c-6a1a-4833-979b-c4f6836a2913",
   "metadata": {},
   "outputs": [
    {
     "name": "stdout",
     "output_type": "stream",
     "text": [
      "Iteration:  0\n",
      "[3 6 1 ... 1 1 5] [4 1 0 ... 2 1 7]\n",
      "0.15892682926829269\n",
      "Iteration:  100\n",
      "[4 1 0 ... 3 1 7] [4 1 0 ... 2 1 7]\n",
      "0.6524878048780488\n",
      "Iteration:  200\n",
      "[4 1 0 ... 3 1 7] [4 1 0 ... 2 1 7]\n",
      "0.7709756097560976\n",
      "Iteration:  300\n",
      "[4 1 0 ... 2 1 7] [4 1 0 ... 2 1 7]\n",
      "0.8097073170731708\n",
      "Iteration:  400\n",
      "[4 1 0 ... 2 1 7] [4 1 0 ... 2 1 7]\n",
      "0.8309024390243902\n",
      "Iteration:  500\n",
      "[4 1 0 ... 2 1 7] [4 1 0 ... 2 1 7]\n",
      "0.8446341463414634\n",
      "Iteration:  600\n",
      "[4 1 0 ... 2 1 7] [4 1 0 ... 2 1 7]\n",
      "0.8541463414634146\n",
      "Iteration:  700\n",
      "[4 1 0 ... 2 1 7] [4 1 0 ... 2 1 7]\n",
      "0.8625121951219512\n",
      "Iteration:  800\n",
      "[4 1 0 ... 2 1 7] [4 1 0 ... 2 1 7]\n",
      "0.8695609756097561\n",
      "Iteration:  900\n",
      "[4 1 0 ... 2 1 7] [4 1 0 ... 2 1 7]\n",
      "0.8757317073170732\n"
     ]
    }
   ],
   "source": [
    "W1, b1, W2, b2 = gradient_descent(X_train, Y_train, 0.0984, 1000)"
   ]
  },
  {
   "cell_type": "markdown",
   "id": "5d44c09e-2304-49c4-a44c-ba7efc933fa7",
   "metadata": {},
   "source": [
    "## Predictions"
   ]
  },
  {
   "cell_type": "code",
   "execution_count": 176,
   "id": "a0d335e3-9004-4518-8cc7-3a45655b52c3",
   "metadata": {},
   "outputs": [],
   "source": [
    "def make_predictions(X, W1, b1, W2, b2):\n",
    "    _, _, _, A2 = forward_prop(W1, b1, W2, b2, X)\n",
    "    predictions = get_predictions(A2)\n",
    "    return predictions\n",
    "\n",
    "def test_prediction(index, W1, b1, W2, b2):\n",
    "    current_image = X_train[:, index, None]\n",
    "    prediction = make_predictions(X_train[:, index, None], W1, b1, W2, b2)\n",
    "    label = Y_train[index]\n",
    "    print(\"Prediction: \", prediction)\n",
    "    print(\"Label: \", label)\n",
    "    \n",
    "    current_image = current_image.reshape((28, 28)) * 255\n",
    "    plt.gray()\n",
    "    plt.imshow(current_image, interpolation='nearest')\n",
    "    plt.show()"
   ]
  },
  {
   "cell_type": "code",
   "execution_count": 178,
   "id": "14ac391c-6521-4312-9000-78377d79a7f6",
   "metadata": {},
   "outputs": [
    {
     "name": "stdout",
     "output_type": "stream",
     "text": [
      "Prediction:  [4]\n",
      "Label:  4\n"
     ]
    },
    {
     "data": {
      "image/png": "[encoded data removed]",
      "text/plain": [
       "<Figure size 640x480 with 1 Axes>"
      ]
     },
     "metadata": {},
     "output_type": "display_data"
    },
    {
     "name": "stdout",
     "output_type": "stream",
     "text": [
      "Prediction:  [1]\n",
      "Label:  1\n"
     ]
    },
    {
     "data": {
      "image/png": "[encoded data removed]",
      "text/plain": [
       "<Figure size 640x480 with 1 Axes>"
      ]
     },
     "metadata": {},
     "output_type": "display_data"
    },
    {
     "name": "stdout",
     "output_type": "stream",
     "text": [
      "Prediction:  [0]\n",
      "Label:  0\n"
     ]
    },
    {
     "data": {
      "image/png": "[encoded data removed]",
      "text/plain": [
       "<Figure size 640x480 with 1 Axes>"
      ]
     },
     "metadata": {},
     "output_type": "display_data"
    },
    {
     "name": "stdout",
     "output_type": "stream",
     "text": [
      "Prediction:  [0]\n",
      "Label:  0\n"
     ]
    },
    {
     "data": {
      "image/png": "[encoded data removed]",
      "text/plain": [
       "<Figure size 640x480 with 1 Axes>"
      ]
     },
     "metadata": {},
     "output_type": "display_data"
    }
   ],
   "source": [
    "test_prediction(0, W1, b1, W2, b2)\n",
    "test_prediction(1, W1, b1, W2, b2)\n",
    "test_prediction(2, W1, b1, W2, b2)\n",
    "test_prediction(3, W1, b1, W2, b2)"
   ]
  },
  {
   "cell_type": "code",
   "execution_count": null,
   "id": "edf7dab7-c9d6-4b37-95b0-44828ea24173",
   "metadata": {},
   "outputs": [],
   "source": []
  }
 ],
 "metadata": {
  "kernelspec": {
   "display_name": "Python 3 (ipykernel)",
   "language": "python",
   "name": "python3"
  },
  "language_info": {
   "codemirror_mode": {
    "name": "ipython",
    "version": 3
   },
   "file_extension": ".py",
   "mimetype": "text/x-python",
   "name": "python",
   "nbconvert_exporter": "python",
   "pygments_lexer": "ipython3",
   "version": "3.11.7"
  }
 },
 "nbformat": 4,
 "nbformat_minor": 5
}
